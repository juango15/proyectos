{
  "nbformat": 4,
  "nbformat_minor": 0,
  "metadata": {
    "colab": {
      "provenance": [],
      "authorship_tag": "ABX9TyPF3Tdv3F71Qbb5rpKhaDcP",
      "include_colab_link": true
    },
    "kernelspec": {
      "name": "python3",
      "display_name": "Python 3"
    },
    "language_info": {
      "name": "python"
    }
  },
  "cells": [
    {
      "cell_type": "markdown",
      "metadata": {
        "id": "view-in-github",
        "colab_type": "text"
      },
      "source": [
        "<a href=\"https://colab.research.google.com/github/juango15/proyectos/blob/main/character.ipynb\" target=\"_parent\"><img src=\"https://colab.research.google.com/assets/colab-badge.svg\" alt=\"Open In Colab\"/></a>"
      ]
    },
    {
      "cell_type": "code",
      "execution_count": 72,
      "metadata": {
        "id": "wAvDkZbbei3l"
      },
      "outputs": [],
      "source": [
        "from IPython.display import clear_output\n",
        "\n",
        "class character:\n",
        "\n",
        "  def __init__(self, name, Inteligence, charisma, health, strength, defend, magic):\n",
        "    self.name = name\n",
        "    self.Inteligence = Inteligence\n",
        "    self.charisma = charisma\n",
        "    self.health = health\n",
        "    self.strength = strength\n",
        "    self.defend = defend\n",
        "    self.magic = magic\n",
        "\n"
      ]
    },
    {
      "cell_type": "code",
      "source": [
        "def stats(a, b, c, d, e, f, g):\n",
        "  pt = 400\n",
        "\n",
        "  print(\"create your character:\")\n",
        "  a = input(\"name: \")\n",
        "  clear_output()\n",
        "\n",
        "  print(\"create your character:\")\n",
        "  print(pt, \"/\", 400)\n",
        "  b = int(input(\"inteligence : \"))\n",
        "  while b > 100:\n",
        "    clear_output()\n",
        "    print(\"the max value is 100\")\n",
        "    print(pt, \"/\", 400)\n",
        "    b = int(input(\"Inteligence: \"))\n",
        "  pt -= b\n",
        "  clear_output()\n",
        "\n",
        "  print(\"create your character:\")\n",
        "  print(pt, \"/\", 400)\n",
        "  c = int(input(\"charisma: \"))\n",
        "  while c > 100:\n",
        "    clear_output()\n",
        "    print(\"the max value is 100\")\n",
        "    print(pt, \"/\", 400)\n",
        "    c = int(input(\"charisma: \"))\n",
        "  pt -= c\n",
        "  clear_output()\n",
        "\n",
        "  print(\"create your character:\")\n",
        "  print(pt, \"/\", 400)\n",
        "  d = int(input(\"health: \"))\n",
        "  while d > 100:\n",
        "    clear_output()\n",
        "    print(\"the max value is 100\")\n",
        "    print(pt, \"/\", 400)\n",
        "    d = int(input(\"health: \"))\n",
        "  pt -= d\n",
        "  clear_output()\n",
        "\n",
        "  print(\"create your character:\")\n",
        "  print(pt, \"/\", 400)\n",
        "  e = int(input(\"strength: \"))\n",
        "  while e > 100:\n",
        "    clear_output()\n",
        "    print(\"the max value is 100\")\n",
        "    print(pt, \"/\", 400)\n",
        "    e = int(input(\"strength: \"))\n",
        "  pt -= e\n",
        "  clear_output()\n",
        "\n",
        "  print(\"create your character:\")\n",
        "  print(pt, \"/\", 400)\n",
        "  f = int(input(\"defend: \"))\n",
        "  while f > 100:\n",
        "    clear_output()\n",
        "    print(\"the max value is 100\")\n",
        "    print(pt, \"/\", 400)\n",
        "    f = int(input(\"defend: \"))\n",
        "  pt -= f\n",
        "  clear_output()\n",
        "\n",
        "  print(\"create your character:\")\n",
        "  print(pt, \"/\", 400)\n",
        "  g = int(input(\"magic: \"))\n",
        "  while g > 100:\n",
        "    clear_output()\n",
        "    print(\"the max value is 100\")\n",
        "    print(pt, \"/\", 400)\n",
        "    g = int(input(\"magic: \"))\n",
        "  pt -= g\n",
        "  clear_output()\n"
      ],
      "metadata": {
        "id": "Q9N0P7ebHGFC"
      },
      "execution_count": 71,
      "outputs": []
    },
    {
      "cell_type": "code",
      "source": [
        "stats(a, b, c, d, e, f, g)\n",
        "def atribites()\n",
        "  my_character = character(a, b, c, d, e, f, g)\n",
        "  print(my_character.name)\n",
        "  print(my_character.Inteligence)\n",
        "  print(my_character.charisma)\n",
        "  print(my_character.health)\n",
        "  print(my_character.strength)\n",
        "  print(my_character.defend)\n",
        "  print(my_character.magic)"
      ],
      "metadata": {
        "colab": {
          "base_uri": "https://localhost:8080/"
        },
        "id": "Qg_CTQr4JUGP",
        "outputId": "b4bcd79b-5d93-40ba-a47c-964129a50428"
      },
      "execution_count": null,
      "outputs": [
        {
          "metadata": {
            "tags": null
          },
          "name": "stdout",
          "output_type": "stream",
          "text": [
            "create your character:\n",
            "430 / 500\n"
          ]
        }
      ]
    }
  ]
}